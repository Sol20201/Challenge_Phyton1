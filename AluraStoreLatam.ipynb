{
  "nbformat": 4,
  "nbformat_minor": 0,
  "metadata": {
    "colab": {
      "provenance": [],
      "include_colab_link": true
    },
    "kernelspec": {
      "name": "python3",
      "display_name": "Python 3"
    },
    "language_info": {
      "name": "python"
    }
  },
  "cells": [
    {
      "cell_type": "markdown",
      "metadata": {
        "id": "view-in-github",
        "colab_type": "text"
      },
      "source": [
        "<a href=\"https://colab.research.google.com/github/Sol20201/Challenge_Phyton1/blob/main/AluraStoreLatam.ipynb\" target=\"_parent\"><img src=\"https://colab.research.google.com/assets/colab-badge.svg\" alt=\"Open In Colab\"/></a>"
      ]
    },
    {
      "cell_type": "markdown",
      "source": [
        "### Importación de datos\n",
        "\n"
      ],
      "metadata": {
        "id": "RhEdWd9YUR6H"
      }
    },
    {
      "cell_type": "code",
      "execution_count": 2,
      "metadata": {
        "colab": {
          "base_uri": "https://localhost:8080/",
          "height": 293
        },
        "id": "T3EvaeQ_INIL",
        "outputId": "dfd9ea05-4b9b-4965-9f92-e32c1f4bdee7"
      },
      "outputs": [
        {
          "output_type": "execute_result",
          "data": {
            "text/plain": [
              "            Producto Categoría del Producto    Precio  Costo de envío  \\\n",
              "0  Asistente virtual           Electrónicos  164300.0          6900.0   \n",
              "1    Mesa de comedor                Muebles  192300.0          8400.0   \n",
              "2      Juego de mesa               Juguetes  209600.0         15900.0   \n",
              "3         Microondas      Electrodomésticos  757500.0         41000.0   \n",
              "4   Silla de oficina                Muebles  335200.0         20200.0   \n",
              "\n",
              "  Fecha de Compra         Vendedor Lugar de Compra  Calificación  \\\n",
              "0      16/01/2021      Pedro Gomez          Bogotá             4   \n",
              "1      18/05/2022  Beatriz Morales        Medellín             1   \n",
              "2      15/03/2021   Juan Fernandez       Cartagena             1   \n",
              "3      03/05/2022   Juan Fernandez            Cali             4   \n",
              "4      07/11/2020    Maria Alfonso        Medellín             5   \n",
              "\n",
              "       Método de pago  Cantidad de cuotas       lat       lon  \n",
              "0  Tarjeta de crédito                   8   4.60971 -74.08175  \n",
              "1  Tarjeta de crédito                   4   6.25184 -75.56359  \n",
              "2  Tarjeta de crédito                   1  10.39972 -75.51444  \n",
              "3               Nequi                   1   3.43722 -76.52250  \n",
              "4               Nequi                   1   6.25184 -75.56359  "
            ],
            "text/html": [
              "\n",
              "  <div id=\"df-48cdddae-173a-41f7-b690-15d8f784f552\" class=\"colab-df-container\">\n",
              "    <div>\n",
              "<style scoped>\n",
              "    .dataframe tbody tr th:only-of-type {\n",
              "        vertical-align: middle;\n",
              "    }\n",
              "\n",
              "    .dataframe tbody tr th {\n",
              "        vertical-align: top;\n",
              "    }\n",
              "\n",
              "    .dataframe thead th {\n",
              "        text-align: right;\n",
              "    }\n",
              "</style>\n",
              "<table border=\"1\" class=\"dataframe\">\n",
              "  <thead>\n",
              "    <tr style=\"text-align: right;\">\n",
              "      <th></th>\n",
              "      <th>Producto</th>\n",
              "      <th>Categoría del Producto</th>\n",
              "      <th>Precio</th>\n",
              "      <th>Costo de envío</th>\n",
              "      <th>Fecha de Compra</th>\n",
              "      <th>Vendedor</th>\n",
              "      <th>Lugar de Compra</th>\n",
              "      <th>Calificación</th>\n",
              "      <th>Método de pago</th>\n",
              "      <th>Cantidad de cuotas</th>\n",
              "      <th>lat</th>\n",
              "      <th>lon</th>\n",
              "    </tr>\n",
              "  </thead>\n",
              "  <tbody>\n",
              "    <tr>\n",
              "      <th>0</th>\n",
              "      <td>Asistente virtual</td>\n",
              "      <td>Electrónicos</td>\n",
              "      <td>164300.0</td>\n",
              "      <td>6900.0</td>\n",
              "      <td>16/01/2021</td>\n",
              "      <td>Pedro Gomez</td>\n",
              "      <td>Bogotá</td>\n",
              "      <td>4</td>\n",
              "      <td>Tarjeta de crédito</td>\n",
              "      <td>8</td>\n",
              "      <td>4.60971</td>\n",
              "      <td>-74.08175</td>\n",
              "    </tr>\n",
              "    <tr>\n",
              "      <th>1</th>\n",
              "      <td>Mesa de comedor</td>\n",
              "      <td>Muebles</td>\n",
              "      <td>192300.0</td>\n",
              "      <td>8400.0</td>\n",
              "      <td>18/05/2022</td>\n",
              "      <td>Beatriz Morales</td>\n",
              "      <td>Medellín</td>\n",
              "      <td>1</td>\n",
              "      <td>Tarjeta de crédito</td>\n",
              "      <td>4</td>\n",
              "      <td>6.25184</td>\n",
              "      <td>-75.56359</td>\n",
              "    </tr>\n",
              "    <tr>\n",
              "      <th>2</th>\n",
              "      <td>Juego de mesa</td>\n",
              "      <td>Juguetes</td>\n",
              "      <td>209600.0</td>\n",
              "      <td>15900.0</td>\n",
              "      <td>15/03/2021</td>\n",
              "      <td>Juan Fernandez</td>\n",
              "      <td>Cartagena</td>\n",
              "      <td>1</td>\n",
              "      <td>Tarjeta de crédito</td>\n",
              "      <td>1</td>\n",
              "      <td>10.39972</td>\n",
              "      <td>-75.51444</td>\n",
              "    </tr>\n",
              "    <tr>\n",
              "      <th>3</th>\n",
              "      <td>Microondas</td>\n",
              "      <td>Electrodomésticos</td>\n",
              "      <td>757500.0</td>\n",
              "      <td>41000.0</td>\n",
              "      <td>03/05/2022</td>\n",
              "      <td>Juan Fernandez</td>\n",
              "      <td>Cali</td>\n",
              "      <td>4</td>\n",
              "      <td>Nequi</td>\n",
              "      <td>1</td>\n",
              "      <td>3.43722</td>\n",
              "      <td>-76.52250</td>\n",
              "    </tr>\n",
              "    <tr>\n",
              "      <th>4</th>\n",
              "      <td>Silla de oficina</td>\n",
              "      <td>Muebles</td>\n",
              "      <td>335200.0</td>\n",
              "      <td>20200.0</td>\n",
              "      <td>07/11/2020</td>\n",
              "      <td>Maria Alfonso</td>\n",
              "      <td>Medellín</td>\n",
              "      <td>5</td>\n",
              "      <td>Nequi</td>\n",
              "      <td>1</td>\n",
              "      <td>6.25184</td>\n",
              "      <td>-75.56359</td>\n",
              "    </tr>\n",
              "  </tbody>\n",
              "</table>\n",
              "</div>\n",
              "    <div class=\"colab-df-buttons\">\n",
              "\n",
              "  <div class=\"colab-df-container\">\n",
              "    <button class=\"colab-df-convert\" onclick=\"convertToInteractive('df-48cdddae-173a-41f7-b690-15d8f784f552')\"\n",
              "            title=\"Convert this dataframe to an interactive table.\"\n",
              "            style=\"display:none;\">\n",
              "\n",
              "  <svg xmlns=\"http://www.w3.org/2000/svg\" height=\"24px\" viewBox=\"0 -960 960 960\">\n",
              "    <path d=\"M120-120v-720h720v720H120Zm60-500h600v-160H180v160Zm220 220h160v-160H400v160Zm0 220h160v-160H400v160ZM180-400h160v-160H180v160Zm440 0h160v-160H620v160ZM180-180h160v-160H180v160Zm440 0h160v-160H620v160Z\"/>\n",
              "  </svg>\n",
              "    </button>\n",
              "\n",
              "  <style>\n",
              "    .colab-df-container {\n",
              "      display:flex;\n",
              "      gap: 12px;\n",
              "    }\n",
              "\n",
              "    .colab-df-convert {\n",
              "      background-color: #E8F0FE;\n",
              "      border: none;\n",
              "      border-radius: 50%;\n",
              "      cursor: pointer;\n",
              "      display: none;\n",
              "      fill: #1967D2;\n",
              "      height: 32px;\n",
              "      padding: 0 0 0 0;\n",
              "      width: 32px;\n",
              "    }\n",
              "\n",
              "    .colab-df-convert:hover {\n",
              "      background-color: #E2EBFA;\n",
              "      box-shadow: 0px 1px 2px rgba(60, 64, 67, 0.3), 0px 1px 3px 1px rgba(60, 64, 67, 0.15);\n",
              "      fill: #174EA6;\n",
              "    }\n",
              "\n",
              "    .colab-df-buttons div {\n",
              "      margin-bottom: 4px;\n",
              "    }\n",
              "\n",
              "    [theme=dark] .colab-df-convert {\n",
              "      background-color: #3B4455;\n",
              "      fill: #D2E3FC;\n",
              "    }\n",
              "\n",
              "    [theme=dark] .colab-df-convert:hover {\n",
              "      background-color: #434B5C;\n",
              "      box-shadow: 0px 1px 3px 1px rgba(0, 0, 0, 0.15);\n",
              "      filter: drop-shadow(0px 1px 2px rgba(0, 0, 0, 0.3));\n",
              "      fill: #FFFFFF;\n",
              "    }\n",
              "  </style>\n",
              "\n",
              "    <script>\n",
              "      const buttonEl =\n",
              "        document.querySelector('#df-48cdddae-173a-41f7-b690-15d8f784f552 button.colab-df-convert');\n",
              "      buttonEl.style.display =\n",
              "        google.colab.kernel.accessAllowed ? 'block' : 'none';\n",
              "\n",
              "      async function convertToInteractive(key) {\n",
              "        const element = document.querySelector('#df-48cdddae-173a-41f7-b690-15d8f784f552');\n",
              "        const dataTable =\n",
              "          await google.colab.kernel.invokeFunction('convertToInteractive',\n",
              "                                                    [key], {});\n",
              "        if (!dataTable) return;\n",
              "\n",
              "        const docLinkHtml = 'Like what you see? Visit the ' +\n",
              "          '<a target=\"_blank\" href=https://colab.research.google.com/notebooks/data_table.ipynb>data table notebook</a>'\n",
              "          + ' to learn more about interactive tables.';\n",
              "        element.innerHTML = '';\n",
              "        dataTable['output_type'] = 'display_data';\n",
              "        await google.colab.output.renderOutput(dataTable, element);\n",
              "        const docLink = document.createElement('div');\n",
              "        docLink.innerHTML = docLinkHtml;\n",
              "        element.appendChild(docLink);\n",
              "      }\n",
              "    </script>\n",
              "  </div>\n",
              "\n",
              "\n",
              "    <div id=\"df-e175b97d-9517-4927-bfa6-aab5bdc2123e\">\n",
              "      <button class=\"colab-df-quickchart\" onclick=\"quickchart('df-e175b97d-9517-4927-bfa6-aab5bdc2123e')\"\n",
              "                title=\"Suggest charts\"\n",
              "                style=\"display:none;\">\n",
              "\n",
              "<svg xmlns=\"http://www.w3.org/2000/svg\" height=\"24px\"viewBox=\"0 0 24 24\"\n",
              "     width=\"24px\">\n",
              "    <g>\n",
              "        <path d=\"M19 3H5c-1.1 0-2 .9-2 2v14c0 1.1.9 2 2 2h14c1.1 0 2-.9 2-2V5c0-1.1-.9-2-2-2zM9 17H7v-7h2v7zm4 0h-2V7h2v10zm4 0h-2v-4h2v4z\"/>\n",
              "    </g>\n",
              "</svg>\n",
              "      </button>\n",
              "\n",
              "<style>\n",
              "  .colab-df-quickchart {\n",
              "      --bg-color: #E8F0FE;\n",
              "      --fill-color: #1967D2;\n",
              "      --hover-bg-color: #E2EBFA;\n",
              "      --hover-fill-color: #174EA6;\n",
              "      --disabled-fill-color: #AAA;\n",
              "      --disabled-bg-color: #DDD;\n",
              "  }\n",
              "\n",
              "  [theme=dark] .colab-df-quickchart {\n",
              "      --bg-color: #3B4455;\n",
              "      --fill-color: #D2E3FC;\n",
              "      --hover-bg-color: #434B5C;\n",
              "      --hover-fill-color: #FFFFFF;\n",
              "      --disabled-bg-color: #3B4455;\n",
              "      --disabled-fill-color: #666;\n",
              "  }\n",
              "\n",
              "  .colab-df-quickchart {\n",
              "    background-color: var(--bg-color);\n",
              "    border: none;\n",
              "    border-radius: 50%;\n",
              "    cursor: pointer;\n",
              "    display: none;\n",
              "    fill: var(--fill-color);\n",
              "    height: 32px;\n",
              "    padding: 0;\n",
              "    width: 32px;\n",
              "  }\n",
              "\n",
              "  .colab-df-quickchart:hover {\n",
              "    background-color: var(--hover-bg-color);\n",
              "    box-shadow: 0 1px 2px rgba(60, 64, 67, 0.3), 0 1px 3px 1px rgba(60, 64, 67, 0.15);\n",
              "    fill: var(--button-hover-fill-color);\n",
              "  }\n",
              "\n",
              "  .colab-df-quickchart-complete:disabled,\n",
              "  .colab-df-quickchart-complete:disabled:hover {\n",
              "    background-color: var(--disabled-bg-color);\n",
              "    fill: var(--disabled-fill-color);\n",
              "    box-shadow: none;\n",
              "  }\n",
              "\n",
              "  .colab-df-spinner {\n",
              "    border: 2px solid var(--fill-color);\n",
              "    border-color: transparent;\n",
              "    border-bottom-color: var(--fill-color);\n",
              "    animation:\n",
              "      spin 1s steps(1) infinite;\n",
              "  }\n",
              "\n",
              "  @keyframes spin {\n",
              "    0% {\n",
              "      border-color: transparent;\n",
              "      border-bottom-color: var(--fill-color);\n",
              "      border-left-color: var(--fill-color);\n",
              "    }\n",
              "    20% {\n",
              "      border-color: transparent;\n",
              "      border-left-color: var(--fill-color);\n",
              "      border-top-color: var(--fill-color);\n",
              "    }\n",
              "    30% {\n",
              "      border-color: transparent;\n",
              "      border-left-color: var(--fill-color);\n",
              "      border-top-color: var(--fill-color);\n",
              "      border-right-color: var(--fill-color);\n",
              "    }\n",
              "    40% {\n",
              "      border-color: transparent;\n",
              "      border-right-color: var(--fill-color);\n",
              "      border-top-color: var(--fill-color);\n",
              "    }\n",
              "    60% {\n",
              "      border-color: transparent;\n",
              "      border-right-color: var(--fill-color);\n",
              "    }\n",
              "    80% {\n",
              "      border-color: transparent;\n",
              "      border-right-color: var(--fill-color);\n",
              "      border-bottom-color: var(--fill-color);\n",
              "    }\n",
              "    90% {\n",
              "      border-color: transparent;\n",
              "      border-bottom-color: var(--fill-color);\n",
              "    }\n",
              "  }\n",
              "</style>\n",
              "\n",
              "      <script>\n",
              "        async function quickchart(key) {\n",
              "          const quickchartButtonEl =\n",
              "            document.querySelector('#' + key + ' button');\n",
              "          quickchartButtonEl.disabled = true;  // To prevent multiple clicks.\n",
              "          quickchartButtonEl.classList.add('colab-df-spinner');\n",
              "          try {\n",
              "            const charts = await google.colab.kernel.invokeFunction(\n",
              "                'suggestCharts', [key], {});\n",
              "          } catch (error) {\n",
              "            console.error('Error during call to suggestCharts:', error);\n",
              "          }\n",
              "          quickchartButtonEl.classList.remove('colab-df-spinner');\n",
              "          quickchartButtonEl.classList.add('colab-df-quickchart-complete');\n",
              "        }\n",
              "        (() => {\n",
              "          let quickchartButtonEl =\n",
              "            document.querySelector('#df-e175b97d-9517-4927-bfa6-aab5bdc2123e button');\n",
              "          quickchartButtonEl.style.display =\n",
              "            google.colab.kernel.accessAllowed ? 'block' : 'none';\n",
              "        })();\n",
              "      </script>\n",
              "    </div>\n",
              "\n",
              "    </div>\n",
              "  </div>\n"
            ],
            "application/vnd.google.colaboratory.intrinsic+json": {
              "type": "dataframe",
              "variable_name": "tienda",
              "summary": "{\n  \"name\": \"tienda\",\n  \"rows\": 2359,\n  \"fields\": [\n    {\n      \"column\": \"Producto\",\n      \"properties\": {\n        \"dtype\": \"category\",\n        \"num_unique_values\": 51,\n        \"samples\": [\n          \"Guitarra ac\\u00fastica\",\n          \"Bal\\u00f3n de baloncesto\",\n          \"Smartwatch\"\n        ],\n        \"semantic_type\": \"\",\n        \"description\": \"\"\n      }\n    },\n    {\n      \"column\": \"Categor\\u00eda del Producto\",\n      \"properties\": {\n        \"dtype\": \"category\",\n        \"num_unique_values\": 8,\n        \"samples\": [\n          \"Muebles\",\n          \"Deportes y diversi\\u00f3n\",\n          \"Electr\\u00f3nicos\"\n        ],\n        \"semantic_type\": \"\",\n        \"description\": \"\"\n      }\n    },\n    {\n      \"column\": \"Precio\",\n      \"properties\": {\n        \"dtype\": \"number\",\n        \"std\": 614686.7653873172,\n        \"min\": 7600.0,\n        \"max\": 2977000.0,\n        \"num_unique_values\": 1937,\n        \"samples\": [\n          2499400.0,\n          14800.0,\n          80500.0\n        ],\n        \"semantic_type\": \"\",\n        \"description\": \"\"\n      }\n    },\n    {\n      \"column\": \"Costo de env\\u00edo\",\n      \"properties\": {\n        \"dtype\": \"number\",\n        \"std\": 32860.0017825605,\n        \"min\": 0.0,\n        \"max\": 160800.0,\n        \"num_unique_values\": 753,\n        \"samples\": [\n          117800.0,\n          54700.0,\n          45600.0\n        ],\n        \"semantic_type\": \"\",\n        \"description\": \"\"\n      }\n    },\n    {\n      \"column\": \"Fecha de Compra\",\n      \"properties\": {\n        \"dtype\": \"object\",\n        \"num_unique_values\": 1018,\n        \"samples\": [\n          \"15/09/2022\",\n          \"03/06/2020\",\n          \"06/11/2021\"\n        ],\n        \"semantic_type\": \"\",\n        \"description\": \"\"\n      }\n    },\n    {\n      \"column\": \"Vendedor\",\n      \"properties\": {\n        \"dtype\": \"category\",\n        \"num_unique_values\": 14,\n        \"samples\": [\n          \"Juliana Costa\",\n          \"Mariana Herrera\",\n          \"Pedro Gomez\"\n        ],\n        \"semantic_type\": \"\",\n        \"description\": \"\"\n      }\n    },\n    {\n      \"column\": \"Lugar de Compra\",\n      \"properties\": {\n        \"dtype\": \"category\",\n        \"num_unique_values\": 19,\n        \"samples\": [\n          \"Bogot\\u00e1\",\n          \"Pereira\",\n          \"Neiva\"\n        ],\n        \"semantic_type\": \"\",\n        \"description\": \"\"\n      }\n    },\n    {\n      \"column\": \"Calificaci\\u00f3n\",\n      \"properties\": {\n        \"dtype\": \"number\",\n        \"std\": 1,\n        \"min\": 1,\n        \"max\": 5,\n        \"num_unique_values\": 5,\n        \"samples\": [\n          1,\n          2,\n          5\n        ],\n        \"semantic_type\": \"\",\n        \"description\": \"\"\n      }\n    },\n    {\n      \"column\": \"M\\u00e9todo de pago\",\n      \"properties\": {\n        \"dtype\": \"category\",\n        \"num_unique_values\": 4,\n        \"samples\": [\n          \"Nequi\",\n          \"Tarjeta de d\\u00e9bito\",\n          \"Tarjeta de cr\\u00e9dito\"\n        ],\n        \"semantic_type\": \"\",\n        \"description\": \"\"\n      }\n    },\n    {\n      \"column\": \"Cantidad de cuotas\",\n      \"properties\": {\n        \"dtype\": \"number\",\n        \"std\": 2,\n        \"min\": 1,\n        \"max\": 24,\n        \"num_unique_values\": 15,\n        \"samples\": [\n          7,\n          14,\n          8\n        ],\n        \"semantic_type\": \"\",\n        \"description\": \"\"\n      }\n    },\n    {\n      \"column\": \"lat\",\n      \"properties\": {\n        \"dtype\": \"number\",\n        \"std\": 2.2874452492678627,\n        \"min\": -4.21528,\n        \"max\": 11.54444,\n        \"num_unique_values\": 19,\n        \"samples\": [\n          4.60971,\n          4.81333,\n          2.9273\n        ],\n        \"semantic_type\": \"\",\n        \"description\": \"\"\n      }\n    },\n    {\n      \"column\": \"lon\",\n      \"properties\": {\n        \"dtype\": \"number\",\n        \"std\": 1.2178272727088486,\n        \"min\": -77.28111,\n        \"max\": -67.9239,\n        \"num_unique_values\": 19,\n        \"samples\": [\n          -74.08175,\n          -75.69611,\n          -75.28189\n        ],\n        \"semantic_type\": \"\",\n        \"description\": \"\"\n      }\n    }\n  ]\n}"
            }
          },
          "metadata": {},
          "execution_count": 2
        }
      ],
      "source": [
        "import pandas as pd\n",
        "\n",
        "url = \"https://raw.githubusercontent.com/alura-es-cursos/challenge1-data-science-latam/refs/heads/main/base-de-datos-challenge1-latam/tienda_1%20.csv\"\n",
        "url2 = \"https://raw.githubusercontent.com/alura-es-cursos/challenge1-data-science-latam/refs/heads/main/base-de-datos-challenge1-latam/tienda_2.csv\"\n",
        "url3 = \"https://raw.githubusercontent.com/alura-es-cursos/challenge1-data-science-latam/refs/heads/main/base-de-datos-challenge1-latam/tienda_3.csv\"\n",
        "url4 = \"https://raw.githubusercontent.com/alura-es-cursos/challenge1-data-science-latam/refs/heads/main/base-de-datos-challenge1-latam/tienda_4.csv\"\n",
        "\n",
        "tienda = pd.read_csv(url)\n",
        "tienda2 = pd.read_csv(url2)\n",
        "tienda3 = pd.read_csv(url3)\n",
        "tienda4 = pd.read_csv(url4)\n",
        "\n",
        "tienda.head()"
      ]
    },
    {
      "cell_type": "markdown",
      "source": [
        "#1. Análisis de facturación\n",
        "\n"
      ],
      "metadata": {
        "id": "X62IW3KFUIYm"
      }
    },
    {
      "cell_type": "markdown",
      "source": [
        "En este primer análisis, calculamos el ingreso total de cada tienda. Sumando los valores de la columna \"Precio\" de cada conjunto de datos de la tienda para estimar los ingresos."
      ],
      "metadata": {
        "id": "zO5j2AOcSkNp"
      }
    },
    {
      "cell_type": "code",
      "source": [
        "suma_total_tienda1 = tienda[\"Precio\"].sum()"
      ],
      "metadata": {
        "id": "xykobSftV64I"
      },
      "execution_count": 4,
      "outputs": []
    },
    {
      "cell_type": "code",
      "source": [
        "print(f\"Ingreso total de la tienda 1: {suma_total_tienda1}\")\n"
      ],
      "metadata": {
        "id": "KDyr8E71V3m-",
        "colab": {
          "base_uri": "https://localhost:8080/"
        },
        "outputId": "ba8b2d95-055d-43eb-d57f-83bc913fa301"
      },
      "execution_count": 5,
      "outputs": [
        {
          "output_type": "stream",
          "name": "stdout",
          "text": [
            "Ingreso total de la tienda 1: 1150880400.0\n"
          ]
        }
      ]
    },
    {
      "cell_type": "code",
      "source": [
        "suma_total_tienda2 = tienda2[\"Precio\"].sum()"
      ],
      "metadata": {
        "id": "chtWgvYJhyF5"
      },
      "execution_count": 6,
      "outputs": []
    },
    {
      "cell_type": "code",
      "source": [
        "print(f\"Ingreso total de la tienda 2: {suma_total_tienda2}\")"
      ],
      "metadata": {
        "colab": {
          "base_uri": "https://localhost:8080/"
        },
        "id": "iJtjD53Hh78D",
        "outputId": "dd94ac7f-6668-4516-e10b-6cfaf4df909e"
      },
      "execution_count": 7,
      "outputs": [
        {
          "output_type": "stream",
          "name": "stdout",
          "text": [
            "Ingreso total de la tienda 2: 1116343500.0\n"
          ]
        }
      ]
    },
    {
      "cell_type": "code",
      "source": [
        "suma_total_tienda3 = tienda3[\"Precio\"].sum()"
      ],
      "metadata": {
        "id": "DpYzL_TAiCqW"
      },
      "execution_count": 8,
      "outputs": []
    },
    {
      "cell_type": "code",
      "source": [
        "print(f\"Ingreso total de la tienda 3: {suma_total_tienda3}\")"
      ],
      "metadata": {
        "colab": {
          "base_uri": "https://localhost:8080/"
        },
        "id": "xzvzv_iPiDSY",
        "outputId": "45fd8c42-6392-49ae-d0cf-a25bafa9f616"
      },
      "execution_count": 9,
      "outputs": [
        {
          "output_type": "stream",
          "name": "stdout",
          "text": [
            "Ingreso total de la tienda 3: 1098019600.0\n"
          ]
        }
      ]
    },
    {
      "cell_type": "code",
      "source": [
        "suma_total_tienda4 = tienda4[\"Precio\"].sum()"
      ],
      "metadata": {
        "id": "esTcCJvyiDdQ"
      },
      "execution_count": 10,
      "outputs": []
    },
    {
      "cell_type": "code",
      "source": [
        "print(f\"Ingreso total de la tienda 4: {suma_total_tienda4}\")"
      ],
      "metadata": {
        "colab": {
          "base_uri": "https://localhost:8080/"
        },
        "id": "U-6RdYtRiD5q",
        "outputId": "4205e28f-d548-46f4-84a4-9a600a73a4e6"
      },
      "execution_count": 11,
      "outputs": [
        {
          "output_type": "stream",
          "name": "stdout",
          "text": [
            "Ingreso total de la tienda 4: 1038375700.0\n"
          ]
        }
      ]
    },
    {
      "cell_type": "code",
      "source": [
        "ingreso_tiendas_df = pd.DataFrame({\n",
        "    \"tiendas\": [\"Tienda 1\", \"Tienda 2\", \"Tienda 3\", \"Tienda 4\"],\n",
        "    \"ingresos\": [suma_total_tienda1, suma_total_tienda2, suma_total_tienda3, suma_total_tienda4]\n",
        "})"
      ],
      "metadata": {
        "id": "JD6O8LFCW2Cd"
      },
      "execution_count": 12,
      "outputs": []
    },
    {
      "cell_type": "code",
      "source": [
        "print(f\"Ingreso total por tienda:\\n \\n {ingreso_tiendas_df}\")"
      ],
      "metadata": {
        "id": "areSUF_7Yc_M",
        "outputId": "b5fecb09-10dd-4dac-a504-3186255f9bd2",
        "colab": {
          "base_uri": "https://localhost:8080/"
        }
      },
      "execution_count": 43,
      "outputs": [
        {
          "output_type": "stream",
          "name": "stdout",
          "text": [
            "Ingreso total por tienda:\n",
            " \n",
            "     tiendas      ingresos\n",
            "0  Tienda 1  1.150880e+09\n",
            "1  Tienda 2  1.116344e+09\n",
            "2  Tienda 3  1.098020e+09\n",
            "3  Tienda 4  1.038376e+09\n"
          ]
        }
      ]
    },
    {
      "cell_type": "code",
      "source": [
        "# menor ingreso\n",
        "indice_menor_ingreso = ingreso_tiendas_df[\"ingresos\"].idxmin()\n",
        "tienda_menor_ingreso = ingreso_tiendas_df.loc[indice_menor_ingreso, \"tiendas\"]"
      ],
      "metadata": {
        "id": "aCqMhPk9jtuJ"
      },
      "execution_count": 16,
      "outputs": []
    },
    {
      "cell_type": "code",
      "source": [
        "print(f\"La tienda con el menor ingreso es: {tienda_menor_ingreso}\")"
      ],
      "metadata": {
        "id": "JWU10bVzaWLP",
        "outputId": "ffe17a82-7364-4a87-c674-c482b6bfa879",
        "colab": {
          "base_uri": "https://localhost:8080/"
        }
      },
      "execution_count": 19,
      "outputs": [
        {
          "output_type": "stream",
          "name": "stdout",
          "text": [
            "La tienda con el menor ingreso es: Tienda 4\n"
          ]
        }
      ]
    },
    {
      "cell_type": "markdown",
      "source": [
        "# 2. Ventas por categoría"
      ],
      "metadata": {
        "id": "2V_vcAPzWZmR"
      }
    },
    {
      "cell_type": "markdown",
      "source": [
        "calcular la cantidad de productos vendidos por categoría en cada tienda. La idea es agrupar los datos por categoría y contar el número de ventas de cada tipo, mostrando las categorías más populares de cada tienda."
      ],
      "metadata": {
        "id": "A3YmdmTetehg"
      }
    },
    {
      "cell_type": "code",
      "source": [
        "ingreso_categoria_tienda1 = tienda.groupby(\"Categoría del Producto\")[\"Precio\"].sum()\n",
        "ingeso_categoria_tienda2 = tienda2.groupby(\"Categoría del Producto\")[\"Precio\"].sum()\n",
        "ingeso_categoria_tienda3 = tienda3.groupby(\"Categoría del Producto\")[\"Precio\"].sum()\n",
        "ingeso_categoria_tienda4 = tienda4.groupby(\"Categoría del Producto\")[\"Precio\"].sum()"
      ],
      "metadata": {
        "id": "A34YupIuYhfF"
      },
      "execution_count": 20,
      "outputs": []
    },
    {
      "cell_type": "code",
      "source": [
        "ingreso_categoria_tiendad_df = pd.DataFrame({\n",
        "    \"Tienda 1\": ingreso_categoria_tienda1,\n",
        "    \"Tienda 2\": ingeso_categoria_tienda2,\n",
        "    \"Tienda 3\": ingeso_categoria_tienda3,\n",
        "    \"Tienda 4\": ingeso_categoria_tienda4\n",
        "})"
      ],
      "metadata": {
        "id": "yZR6cOjXYSk1"
      },
      "execution_count": 24,
      "outputs": []
    },
    {
      "cell_type": "code",
      "source": [
        "# Tiendas x categorias\n",
        "print(f\"Categorias más vendidas por tienda: \\n \\n {ingreso_categoria_tiendad_df}\" )"
      ],
      "metadata": {
        "id": "rbmyeLFSd0zL",
        "outputId": "fc41e781-c5de-45db-ed4d-743a26d7dce6",
        "colab": {
          "base_uri": "https://localhost:8080/"
        }
      },
      "execution_count": 45,
      "outputs": [
        {
          "output_type": "stream",
          "name": "stdout",
          "text": [
            "Categorias más vendidas por tienda: \n",
            " \n",
            "                             Tienda 1     Tienda 2     Tienda 3     Tienda 4\n",
            "Categoría del Producto                                                     \n",
            "Artículos para el hogar   12698400.0   14746900.0   15060000.0   15074500.0\n",
            "Deportes y diversión      39290000.0   34744500.0   35593100.0   33350100.0\n",
            "Electrodomésticos        363685200.0  348567800.0  329237900.0  283260200.0\n",
            "Electrónicos             429493500.0  410831100.0  410775800.0  409476100.0\n",
            "Instrumentos musicales    91299000.0  104990300.0   77380900.0   75102400.0\n",
            "Juguetes                  17995700.0   15945400.0   19401100.0   20262200.0\n",
            "Libros                     8784900.0   10091200.0    9498700.0    9321300.0\n",
            "Muebles                  187633700.0  176426300.0  201072100.0  192528900.0\n"
          ]
        }
      ]
    },
    {
      "cell_type": "code",
      "source": [
        "# Categorias populares x tienda, TOP 3\n",
        "\n",
        "top_categorias = 3\n",
        "top_categorias_tienda1 = ingreso_categoria_tienda1.nlargest(top_categorias)\n",
        "top_categorias_tienda2 = ingeso_categoria_tienda2.nlargest(top_categorias)\n",
        "top_categorias_tienda3 = ingeso_categoria_tienda3.nlargest(top_categorias)\n",
        "top_categorias_tienda4 = ingeso_categoria_tienda4.nlargest(top_categorias)\n",
        "\n",
        "top_categorias_tienda1_df = pd.DataFrame({\n",
        "    \"Categoría\": top_categorias_tienda1.index,\n",
        "    \"Ventas\": top_categorias_tienda1.values\n",
        "})\n",
        "\n",
        "top_categorias_tienda2_df = pd.DataFrame({\n",
        "    \"Categoría\": top_categorias_tienda2.index,\n",
        "    \"Ventas\": top_categorias_tienda2.values\n",
        "})\n",
        "\n",
        "top_categorias_tienda3_df = pd.DataFrame({\n",
        "    \"Categoría\": top_categorias_tienda3.index,\n",
        "    \"Ventas\": top_categorias_tienda3.values\n",
        "})\n",
        "\n",
        "top_categorias_tienda4_df = pd.DataFrame({\n",
        "    \"Categoría\": top_categorias_tienda4.index,\n",
        "    \"Ventas\": top_categorias_tienda4.values\n",
        "})"
      ],
      "metadata": {
        "id": "MiTzkZDZfUQy"
      },
      "execution_count": 27,
      "outputs": []
    },
    {
      "cell_type": "code",
      "source": [
        "print(\"Top 3 categorías más populares en la tienda 1:\")\n",
        "print(top_categorias_tienda1_df)\n",
        "print(\"\\nTop 3 categorías más populares en la tienda 2:\")\n",
        "print(top_categorias_tienda2_df)\n",
        "print(\"\\nTop 3 categorías más populares en la tienda 3:\")\n",
        "print(top_categorias_tienda3_df)\n",
        "print(\"\\nTop 3 categorías más populares en la tienda 4:\")\n",
        "print(top_categorias_tienda4_df)"
      ],
      "metadata": {
        "id": "pIb3ySyPiv7s",
        "outputId": "ae4b6d56-2d39-4026-a445-1b5890319069",
        "colab": {
          "base_uri": "https://localhost:8080/"
        }
      },
      "execution_count": 28,
      "outputs": [
        {
          "output_type": "stream",
          "name": "stdout",
          "text": [
            "Top 3 categorías más populares en la tienda 1:\n",
            "           Categoría       Ventas\n",
            "0       Electrónicos  429493500.0\n",
            "1  Electrodomésticos  363685200.0\n",
            "2            Muebles  187633700.0\n",
            "\n",
            "Top 3 categorías más populares en la tienda 2:\n",
            "           Categoría       Ventas\n",
            "0       Electrónicos  410831100.0\n",
            "1  Electrodomésticos  348567800.0\n",
            "2            Muebles  176426300.0\n",
            "\n",
            "Top 3 categorías más populares en la tienda 3:\n",
            "           Categoría       Ventas\n",
            "0       Electrónicos  410775800.0\n",
            "1  Electrodomésticos  329237900.0\n",
            "2            Muebles  201072100.0\n",
            "\n",
            "Top 3 categorías más populares en la tienda 4:\n",
            "           Categoría       Ventas\n",
            "0       Electrónicos  409476100.0\n",
            "1  Electrodomésticos  283260200.0\n",
            "2            Muebles  192528900.0\n"
          ]
        }
      ]
    },
    {
      "cell_type": "markdown",
      "source": [
        "# 3. Calificación promedio de la tienda\n"
      ],
      "metadata": {
        "id": "Rq6tU_xSY3jk"
      }
    },
    {
      "cell_type": "markdown",
      "source": [
        "Calcular las calificaciones promedio de los clientes para cada tienda. El objetivo es conocer la satisfacción del cliente con los productos vendidos."
      ],
      "metadata": {
        "id": "ZIjfj1bbjXIw"
      }
    },
    {
      "cell_type": "code",
      "source": [
        "# Calificación promedio de clientes x tienda\n",
        "calificacion_tienda1 = tienda[\"Calificación\"].mean()\n",
        "calificacion_tienda2 = tienda2[\"Calificación\"].mean()\n",
        "calificacion_tienda3 = tienda3[\"Calificación\"].mean()\n",
        "calificacion_tienda4 = tienda4[\"Calificación\"].mean()\n",
        "\n",
        "calificaciones_tiendas_df = pd.DataFrame({\n",
        "    \"Tiendas\": [\"Tienda 1\", \"Tienda 2\", \"Tienda 3\", \"Tienda 4\"],\n",
        "    \"Calificación\": [calificacion_tienda1, calificacion_tienda2, calificacion_tienda3, calificacion_tienda4]\n",
        "})\n"
      ],
      "metadata": {
        "id": "bh3jjjJwY5MU"
      },
      "execution_count": 49,
      "outputs": []
    },
    {
      "cell_type": "code",
      "source": [
        "print(f\"Calificación promedio por tienda: \\n \\n {calificaciones_tiendas_df}\")"
      ],
      "metadata": {
        "id": "I0KkjPoTY88F",
        "outputId": "b8bda34e-850c-437c-c1ad-67214d236f65",
        "colab": {
          "base_uri": "https://localhost:8080/"
        }
      },
      "execution_count": 50,
      "outputs": [
        {
          "output_type": "stream",
          "name": "stdout",
          "text": [
            "Calificación promedio por tienda: \n",
            " \n",
            "     Tiendas  Calificación\n",
            "0  Tienda 1      3.976685\n",
            "1  Tienda 2      4.037304\n",
            "2  Tienda 3      4.048326\n",
            "3  Tienda 4      3.995759\n"
          ]
        }
      ]
    },
    {
      "cell_type": "markdown",
      "source": [
        "# 4. Productos más y menos vendidos"
      ],
      "metadata": {
        "id": "DmNp1KPBZCm-"
      }
    },
    {
      "cell_type": "markdown",
      "source": [
        "identificar qué productos fueron los más vendidos y los menos vendidos en cada tienda. Visualiza los resultados para que quede claro qué productos destacaron en ventas en cada tienda."
      ],
      "metadata": {
        "id": "g_WuzO-rmpJP"
      }
    },
    {
      "cell_type": "code",
      "source": [
        "ingreso_productos_vendidos_tienda1 = tienda.groupby(\"Producto\")[\"Precio\"].sum()\n",
        "ingreso_productos_vendidos_tienda2 = tienda2.groupby(\"Producto\")[\"Precio\"].sum()\n",
        "ingreso_productos_vendidos_tienda3 = tienda3.groupby(\"Producto\")[\"Precio\"].sum()\n",
        "ingreso_productos_vendidos_tienda4 = tienda4.groupby(\"Producto\")[\"Precio\"].sum()\n",
        "\n",
        "top_productos_vendidos_tiendas = 3\n",
        "top_productos_vendidos_tienda1 = ingreso_productos_vendidos_tienda1.nlargest(top_productos_vendidos_tiendas)\n",
        "top_productos_vendidos_tienda2 = ingreso_productos_vendidos_tienda2.nlargest(top_productos_vendidos_tiendas)\n",
        "top_productos_vendidos_tienda3 = ingreso_productos_vendidos_tienda3.nlargest(top_productos_vendidos_tiendas)\n",
        "top_productos_vendidos_tienda4 = ingreso_productos_vendidos_tienda4.nlargest(top_productos_vendidos_tiendas)\n",
        "\n",
        "top_productos_menos_tiendas = 3\n",
        "top_productos_menos_tienda1 = ingreso_productos_vendidos_tienda1.nsmallest(top_productos_menos_tiendas)\n",
        "top_productos_menos_tienda2 = ingreso_productos_vendidos_tienda2.nsmallest(top_productos_menos_tiendas)\n",
        "top_productos_menos_tienda3 = ingreso_productos_vendidos_tienda3.nsmallest(top_productos_menos_tiendas)\n",
        "top_productos_menos_tienda4 = ingreso_productos_vendidos_tienda4.nsmallest(top_productos_menos_tiendas)\n",
        "\n",
        "top_productos_vendidos_df= pd.DataFrame({\n",
        "    \"Tienda 1\": top_productos_vendidos_tienda1.index,\n",
        "    \"Tienda 2\": top_productos_vendidos_tienda2.index,\n",
        "    \"Tienda 3\": top_productos_vendidos_tienda3.index,\n",
        "    \"Tienda 4\": top_productos_vendidos_tienda4.index\n",
        "})\n",
        "\n",
        "top_productos_menos_df= pd.DataFrame({\n",
        "    \"Tienda 1\": top_productos_menos_tienda1.index,\n",
        "    \"Tienda 2\": top_productos_menos_tienda2.index,\n",
        "    \"Tienda 3\": top_productos_menos_tienda3.index,\n",
        "    \"Tienda 4\": top_productos_menos_tienda4.index\n",
        "})\n",
        ""
      ],
      "metadata": {
        "id": "qoyjqijQZHfF"
      },
      "execution_count": 34,
      "outputs": []
    },
    {
      "cell_type": "code",
      "source": [
        "print(f\" Productos más vendidos por tienda-TOP 3: \\n \\n {top_productos_vendidos_df}\" )"
      ],
      "metadata": {
        "id": "0Sw3sd4IZIGW",
        "outputId": "c34c8435-b311-4805-a66f-59e55222a14e",
        "colab": {
          "base_uri": "https://localhost:8080/"
        }
      },
      "execution_count": 51,
      "outputs": [
        {
          "output_type": "stream",
          "name": "stdout",
          "text": [
            " Productos más vendidos por tienda-TOP 3: \n",
            " \n",
            "         Tienda 1       Tienda 2       Tienda 3       Tienda 4\n",
            "0  TV LED UHD 4K      Iphone 15   Refrigerador      Iphone 15\n",
            "1   Refrigerador  TV LED UHD 4K  TV LED UHD 4K  TV LED UHD 4K\n",
            "2      Iphone 15   Refrigerador      Iphone 15       Smart TV\n"
          ]
        }
      ]
    },
    {
      "cell_type": "code",
      "source": [
        "print(f\" Productos menos vendidos por tienda-TOP 3: \\n \\n {top_productos_menos_df}\" )"
      ],
      "metadata": {
        "id": "zwjgyA6ppXXO",
        "outputId": "c2aec229-f788-4b72-d6d2-74494f5fa2d5",
        "colab": {
          "base_uri": "https://localhost:8080/"
        }
      },
      "execution_count": 52,
      "outputs": [
        {
          "output_type": "stream",
          "name": "stdout",
          "text": [
            " Productos menos vendidos por tienda-TOP 3: \n",
            " \n",
            "              Tienda 1            Tienda 2            Tienda 3  \\\n",
            "0  Cuerda para saltar     Cubo mágico 8x8     Cubo mágico 8x8   \n",
            "1      Dinosaurio Rex      Dinosaurio Rex      Dinosaurio Rex   \n",
            "2     Cubo mágico 8x8  Cuerda para saltar  Cuerda para saltar   \n",
            "\n",
            "             Tienda 4  \n",
            "0  Cuerda para saltar  \n",
            "1     Cubo mágico 8x8  \n",
            "2      Dinosaurio Rex  \n"
          ]
        }
      ]
    },
    {
      "cell_type": "markdown",
      "source": [
        "# 5. Envío promedio por tienda"
      ],
      "metadata": {
        "id": "Fl0cGi3bZKqU"
      }
    },
    {
      "cell_type": "code",
      "source": [
        "costo_envio_tienda1 = tienda[\"Costo de envío\"].mean()\n",
        "costo_envio_tienda2 = tienda2[\"Costo de envío\"].mean()\n",
        "costo_envio_tienda3 = tienda3[\"Costo de envío\"].mean()\n",
        "costo_envio_tienda4 = tienda4[\"Costo de envío\"].mean()\n",
        "\n",
        "costo_envio_tiendas_df = pd.DataFrame({\n",
        "    \"Tiendas\": [\"Tienda 1\", \"Tienda 2\", \"Tienda 3\", \"Tienda 4\"],\n",
        "    \"Costo de envío\": [costo_envio_tienda1, costo_envio_tienda2, costo_envio_tienda3, costo_envio_tienda4]\n",
        "})"
      ],
      "metadata": {
        "id": "S2JeaCykZNy9"
      },
      "execution_count": 54,
      "outputs": []
    },
    {
      "cell_type": "code",
      "source": [
        "print(f\"Costo promedio de envío por tienda: \\n \\n {costo_envio_tiendas_df}\")"
      ],
      "metadata": {
        "id": "0tSdCie9ZQlt",
        "outputId": "7d12042b-ef61-43f7-9e23-da07872c8203",
        "colab": {
          "base_uri": "https://localhost:8080/"
        }
      },
      "execution_count": 55,
      "outputs": [
        {
          "output_type": "stream",
          "name": "stdout",
          "text": [
            "Costo promedio de envío por tienda: \n",
            " \n",
            "     Tiendas  Costo de envío\n",
            "0  Tienda 1    26018.609580\n",
            "1  Tienda 2    25216.235693\n",
            "2  Tienda 3    24805.680373\n",
            "3  Tienda 4    23459.457167\n"
          ]
        }
      ]
    }
  ]
}